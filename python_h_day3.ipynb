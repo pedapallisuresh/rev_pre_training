{
 "cells": [
  {
   "cell_type": "code",
   "execution_count": 25,
   "metadata": {},
   "outputs": [
    {
     "name": "stdout",
     "output_type": "stream",
     "text": [
      "['g', 'a', 't', 't', 'g', 'g', 'c', 'c', 't', 'a', 'g', 'g', 't', 'g', 'c', 'c', 'a', 't', 'g', 'a']\n"
     ]
    }
   ],
   "source": [
    "import random\n",
    "lis=['a','t','c','g']\n",
    "length=20\n",
    "\n",
    "c=random.choices(lis,k=length)\n",
    "print(c)\n",
    "\n",
    "\n"
   ]
  },
  {
   "cell_type": "code",
   "execution_count": null,
   "metadata": {},
   "outputs": [
    {
     "ename": "NameError",
     "evalue": "name 'isalpha' is not defined",
     "output_type": "error",
     "traceback": [
      "\u001b[1;31m---------------------------------------------------------------------------\u001b[0m",
      "\u001b[1;31mNameError\u001b[0m                                 Traceback (most recent call last)",
      "Cell \u001b[1;32mIn[136], line 5\u001b[0m\n\u001b[0;32m      3\u001b[0m li\u001b[38;5;241m=\u001b[39m[]\n\u001b[0;32m      4\u001b[0m \u001b[38;5;28;01mfor\u001b[39;00m i \u001b[38;5;129;01min\u001b[39;00m text:\n\u001b[1;32m----> 5\u001b[0m     \u001b[38;5;28;01mif\u001b[39;00m i \u001b[38;5;241m==\u001b[39m \u001b[43misalpha\u001b[49m():\n\u001b[0;32m      6\u001b[0m         li\u001b[38;5;241m.\u001b[39mappend(i)\n",
      "\u001b[1;31mNameError\u001b[0m: name 'isalpha' is not defined"
     ]
    }
   ],
   "source": [
    "#set Comphrension\n",
    "text =\"Hello World!\"\n",
    "li=[]\n",
    "for i in text:\n",
    "    if i is ():\n",
    "        li.append(i)\n",
    "\n",
    "\n"
   ]
  },
  {
   "cell_type": "code",
   "execution_count": 41,
   "metadata": {},
   "outputs": [
    {
     "name": "stdout",
     "output_type": "stream",
     "text": [
      "55\n"
     ]
    }
   ],
   "source": [
    "#fibonaccti\n",
    "def fib(n):\n",
    "    if n<0:\n",
    "        return \" invalid input\"\n",
    "    elif n==0:\n",
    "        return 0\n",
    "    elif n==1 or n==2:\n",
    "        return 1\n",
    "    else:\n",
    "        return fib(n-1)+fib(n-2)\n",
    "print(fib(10))"
   ]
  },
  {
   "cell_type": "code",
   "execution_count": 7,
   "metadata": {},
   "outputs": [
    {
     "name": "stdout",
     "output_type": "stream",
     "text": [
      "0\n",
      "1\n",
      "1\n",
      "2\n",
      "3\n",
      "5\n",
      "8\n",
      "13\n",
      "21\n",
      "34\n"
     ]
    }
   ],
   "source": [
    "def fibonacci(n):\n",
    "    a,b=0,1\n",
    "    for _ in range(n):\n",
    "        yield a\n",
    "        a,b=b,a+b\n",
    "\n",
    "fib_gen=(num for num in fibonacci(10))\n",
    "for num in fib_gen:\n",
    "    print(num)"
   ]
  },
  {
   "cell_type": "code",
   "execution_count": 13,
   "metadata": {},
   "outputs": [
    {
     "name": "stdout",
     "output_type": "stream",
     "text": [
      "[1]\n",
      "[2]\n",
      "[3]\n",
      "[5]\n",
      "[6]\n",
      "[9]\n"
     ]
    }
   ],
   "source": [
    "#Nested list Comphrension matrix\n",
    "matrix=[[1,2,3],[4,5,6],[7,8,9]]\n",
    "for i in range(len(matrix)):\n",
    "    for j in range(i,len(matrix)):\n",
    "        print([matrix[i][j]])"
   ]
  },
  {
   "cell_type": "code",
   "execution_count": 17,
   "metadata": {},
   "outputs": [
    {
     "name": "stdout",
     "output_type": "stream",
     "text": [
      "[[1, 4, 7], [2, 5, 8], [3, 6, 9]]\n"
     ]
    }
   ],
   "source": [
    "matr=[[1,2,3],[4,5,6],[7,8,9]]\n",
    "transpose_matrix=[[matr[row][col] for row in range(len(matr))] for col in range(len(matr[0]))]\n",
    "\n",
    "print(transpose_matrix)"
   ]
  },
  {
   "cell_type": "code",
   "execution_count": 19,
   "metadata": {},
   "outputs": [
    {
     "name": "stdout",
     "output_type": "stream",
     "text": [
      "{'hello': 2, 'world': 1}\n"
     ]
    }
   ],
   "source": [
    "#dictionary comphrension\n",
    "\n",
    "sentence=\"hello world hello\"\n",
    "wl=sentence.split()\n",
    "\n",
    "word_freq={word:wl.count(word) for word in wl}\n",
    "\n",
    "print(word_freq)"
   ]
  },
  {
   "cell_type": "code",
   "execution_count": 24,
   "metadata": {},
   "outputs": [
    {
     "name": "stdout",
     "output_type": "stream",
     "text": [
      "[[1, 4, 7], [2, 5, 8], [3, 6, 9]]\n"
     ]
    }
   ],
   "source": [
    "#traditional approach\n",
    "\n",
    "num_row=len(matrix)\n",
    "num_col=len(matrix)\n",
    "transpose_matrix=[]\n",
    "\n",
    "for col in range(num_col):\n",
    "    new_row=[]\n",
    "    for row in range(num_row):\n",
    "        new_row.append(matrix[row][col])\n",
    "\n",
    "    transpose_matrix.append(new_row)\n",
    "\n",
    "print(transpose_matrix)\n"
   ]
  },
  {
   "cell_type": "code",
   "execution_count": 30,
   "metadata": {},
   "outputs": [
    {
     "name": "stdout",
     "output_type": "stream",
     "text": [
      "{2, 3, 5, 37, 7, 41, 11, 43, 13, 47, 17, 19, 23, 29, 31}\n"
     ]
    }
   ],
   "source": [
    "#set comphrension\n",
    "def is_prime(num):\n",
    "    if num<2:\n",
    "        return False\n",
    "    for i in range(2,int(num**0.5)+1):\n",
    "        if num%i==0:\n",
    "            return False\n",
    "    \n",
    "    return True\n",
    "prime_nums={num for num in range(1,51) if is_prime(num)}\n",
    "\n",
    "print(prime_nums)"
   ]
  },
  {
   "cell_type": "code",
   "execution_count": 32,
   "metadata": {},
   "outputs": [
    {
     "name": "stdout",
     "output_type": "stream",
     "text": [
      "['t', 'a', 'g', 'c']\n"
     ]
    }
   ],
   "source": [
    "#complementary DNAsequence \n",
    "ls=['a','t','c','g']\n",
    "dics={'a':'t',\"c\":\"g\",\"g\":\"c\",\"t\":\"a\"}\n",
    "d=[dics[base] for base in ls]\n",
    "\n",
    "print(d)"
   ]
  },
  {
   "cell_type": "code",
   "execution_count": 37,
   "metadata": {},
   "outputs": [
    {
     "data": {
      "text/plain": [
       "{'Alice': 'A', 'Bob': 'B', 'Charlie': 'F', 'David': 'C', 'Eve': 'F'}"
      ]
     },
     "execution_count": 37,
     "metadata": {},
     "output_type": "execute_result"
    }
   ],
   "source": [
    "student_scores={\n",
    "    'Alice': 95,\n",
    "    'Bob': 82,\n",
    "    'Charlie': 68,\n",
    "    'David': 74,\n",
    "    'Eve': 58\n",
    "\n",
    "}\n",
    "\n",
    "def get_grade(score):\n",
    "    if 90<= score <=100:\n",
    "        return 'A'\n",
    "    elif 80<= score <=90:\n",
    "        return 'B'\n",
    "    elif 70<= score <=80:\n",
    "        return 'C'\n",
    "    else:\n",
    "        return 'F'\n",
    "    \n",
    "gardes={student:get_grade(score)for student,score in student_scores.items()}\n",
    "\n",
    "gardes"
   ]
  },
  {
   "cell_type": "code",
   "execution_count": 144,
   "metadata": {},
   "outputs": [
    {
     "name": "stdout",
     "output_type": "stream",
     "text": [
      "0\n",
      "1\n",
      "1\n",
      "3\n",
      "7\n",
      "12\n",
      "18\n",
      "25\n",
      "33\n",
      "42\n",
      "52\n"
     ]
    }
   ],
   "source": [
    "#fib\n",
    "n=10\n",
    "cnt=0\n",
    "for i in range(n+1):\n",
    "    if i==0:\n",
    "        print(0)\n",
    "    elif i==1 or i==2:\n",
    "        print(1)\n",
    "    else:\n",
    "\n",
    "        cnt+=i\n",
    "    \n",
    "        print(cnt)\n",
    "   "
   ]
  },
  {
   "cell_type": "code",
   "execution_count": 63,
   "metadata": {},
   "outputs": [
    {
     "data": {
      "text/plain": [
       "Counter({'the': 2,\n",
       "         'quick': 1,\n",
       "         'brown': 1,\n",
       "         'fox': 1,\n",
       "         'jumps': 1,\n",
       "         'over': 1,\n",
       "         'lazy': 1,\n",
       "         'dog': 1})"
      ]
     },
     "execution_count": 63,
     "metadata": {},
     "output_type": "execute_result"
    }
   ],
   "source": [
    "#dictionary comphrension\n",
    "from collections import Counter\n",
    "sentence=\"the quick brown fox jumps over the lazy dog\"\n",
    "sent=(sentence.split())\n",
    "Counter(sent)\n",
    "\n",
    "\n",
    "\n"
   ]
  },
  {
   "cell_type": "code",
   "execution_count": 44,
   "metadata": {},
   "outputs": [
    {
     "name": "stdout",
     "output_type": "stream",
     "text": [
      "7EbH0Cga\n"
     ]
    }
   ],
   "source": [
    "\n",
    "# Generator comphrension\n",
    "import random\n",
    "import string\n",
    "\n",
    "chars=string.ascii_letters+string.digits +\"!@#$%^&*\"\n",
    "\n",
    "def password_generator(length= 8):\n",
    "    while True:\n",
    "        password=''.join(random.choice(chars) for _ in range(length))\n",
    "\n",
    "        yield password\n",
    "n=8\n",
    "gen=password_generator(n)\n",
    "\n",
    "print(next(gen))"
   ]
  },
  {
   "cell_type": "markdown",
   "metadata": {},
   "source": [
    "# N00n session"
   ]
  },
  {
   "cell_type": "code",
   "execution_count": null,
   "metadata": {},
   "outputs": [],
   "source": []
  },
  {
   "cell_type": "code",
   "execution_count": 18,
   "metadata": {},
   "outputs": [
    {
     "data": {
      "text/plain": [
       "datetime.datetime(2025, 2, 26, 14, 37, 12, 840299)"
      ]
     },
     "execution_count": 18,
     "metadata": {},
     "output_type": "execute_result"
    }
   ],
   "source": [
    "from datetime import datetime\n",
    "\n",
    "now=datetime.now()\n",
    "\n",
    "now"
   ]
  },
  {
   "cell_type": "code",
   "execution_count": 149,
   "metadata": {},
   "outputs": [
    {
     "data": {
      "text/plain": [
       "(2025, 2, 26)"
      ]
     },
     "execution_count": 149,
     "metadata": {},
     "output_type": "execute_result"
    }
   ],
   "source": [
    "from datetime import datetime\n",
    "now=datetime.now()\n",
    "year=now.year\n",
    "month=now.month\n",
    "day=now.day\n",
    "\n",
    "year,month,day"
   ]
  },
  {
   "cell_type": "code",
   "execution_count": 150,
   "metadata": {},
   "outputs": [
    {
     "data": {
      "text/plain": [
       "datetime.date(2025, 2, 26)"
      ]
     },
     "execution_count": 150,
     "metadata": {},
     "output_type": "execute_result"
    }
   ],
   "source": [
    "from datetime import date\n",
    "today=date.today()\n",
    "today"
   ]
  },
  {
   "cell_type": "code",
   "execution_count": 40,
   "metadata": {},
   "outputs": [
    {
     "name": "stdout",
     "output_type": "stream",
     "text": [
      "tomorrow:{now+timedelta(days=26)}\n",
      "after three weeks:2025-03-19 14:51:07.696647\n",
      "before 2 month:2025-01-01 14:51:07.696647\n"
     ]
    }
   ],
   "source": [
    "from datetime import timedelta\n",
    "now=datetime.now()\n",
    "\n",
    "print(\"tomorrow:{now+timedelta(days=26)}\")\n",
    "\n",
    "print(f\"after three weeks:{now+timedelta(weeks=3)}\")\n",
    "\n",
    "print(f\"before 2 month:{now-timedelta(weeks=8)}\")"
   ]
  },
  {
   "cell_type": "code",
   "execution_count": 151,
   "metadata": {},
   "outputs": [
    {
     "data": {
      "text/plain": [
       "'Wed-Feb-26 17:05:40'"
      ]
     },
     "execution_count": 151,
     "metadata": {},
     "output_type": "execute_result"
    }
   ],
   "source": [
    "#formatting datetime\n",
    "\n",
    "from datetime import datetime\n",
    "\n",
    "now =datetime.now().strftime(\"%a-%b-%d %H:%M:%S\")\n",
    "\n",
    "now"
   ]
  },
  {
   "cell_type": "code",
   "execution_count": null,
   "metadata": {},
   "outputs": [
    {
     "data": {
      "text/plain": [
       "'2025-02-26'"
      ]
     },
     "execution_count": 157,
     "metadata": {},
     "output_type": "execute_result"
    }
   ],
   "source": [
    "#year month and date\n",
    "#for day it is %A and for month in letters %b\n",
    "\n",
    "calend=datetime.now().strftime(\"%Y-%m-%d\")\n",
    "calend"
   ]
  },
  {
   "cell_type": "code",
   "execution_count": 47,
   "metadata": {},
   "outputs": [
    {
     "data": {
      "text/plain": [
       "'Wednesday,26th of Feb ,2025'"
      ]
     },
     "execution_count": 47,
     "metadata": {},
     "output_type": "execute_result"
    }
   ],
   "source": [
    "from datetime import datetime\n",
    "now=datetime.now().strftime(\"%A,%dth of %b ,%Y\")\n",
    "\n",
    "now"
   ]
  },
  {
   "cell_type": "code",
   "execution_count": 86,
   "metadata": {},
   "outputs": [
    {
     "name": "stdout",
     "output_type": "stream",
     "text": [
      "25\n"
     ]
    }
   ],
   "source": [
    "#calculate age\n",
    "\n",
    "from datetime import datetime \n",
    "\n",
    "h=int(input())\n",
    "\n",
    "now=int(datetime.now().strftime(\"%Y\"))\n",
    "\n",
    "print(now-h)\n",
    "\n"
   ]
  },
  {
   "cell_type": "code",
   "execution_count": null,
   "metadata": {},
   "outputs": [],
   "source": [
    "#scheduling future events by calculating time remaining\n",
    "#create a funtion(event_name,event_date) in key value pairs return event and return the date and time remaining and one week remonder and one day reminder \n"
   ]
  },
  {
   "cell_type": "code",
   "execution_count": 80,
   "metadata": {},
   "outputs": [
    {
     "name": "stdout",
     "output_type": "stream",
     "text": [
      "you have entered:3\n",
      "you have entered:4\n",
      "you have entered:e43e\n"
     ]
    }
   ],
   "source": [
    "def uc():\n",
    "\n",
    "\n",
    "    a=None\n",
    "    while a is None:\n",
    "        h=input(\"Enter a value\").lower()\n",
    "        if h==\"quit \"or h==\"exit\":\n",
    "            break\n",
    "        elif h:\n",
    "            print(f\"you have entered:{h}\")\n",
    "\n",
    "\n",
    "\n",
    "uc()\n"
   ]
  },
  {
   "cell_type": "markdown",
   "metadata": {},
   "source": [
    "# #Binary type \n",
    "# bytes : immutable,8 bit integer\n",
    "# bytearray : mutable, 8bit integer\n",
    "\n",
    "both sequences if 8 bit integer\n",
    "\n",
    "# memoryview : memory efficient, when dealing with binary data. why ? ->  gives view of the memory of the object "
   ]
  },
  {
   "cell_type": "code",
   "execution_count": 94,
   "metadata": {},
   "outputs": [
    {
     "data": {
      "text/plain": [
       "b'Hello'"
      ]
     },
     "execution_count": 94,
     "metadata": {},
     "output_type": "execute_result"
    }
   ],
   "source": [
    "emy_bytes=bytes()\n",
    "zero_bytes=bytes(5)\n",
    "from_string=bytes(\"Hello\",encoding='utf-8')\n",
    "zero_bytes\n",
    "from_string\n",
    "from_list=bytes([72,101,108,108,111])\n",
    "\n",
    "from_list"
   ]
  },
  {
   "cell_type": "code",
   "execution_count": 97,
   "metadata": {},
   "outputs": [
    {
     "data": {
      "text/plain": [
       "bytearray(b'Gello')"
      ]
     },
     "execution_count": 97,
     "metadata": {},
     "output_type": "execute_result"
    }
   ],
   "source": [
    "literal_byte=bytearray(\"Hello\",\"utf-8\")\n",
    "literal_byte[0]\n",
    "literal_byte[0]=71\n",
    "literal_byte"
   ]
  },
  {
   "cell_type": "code",
   "execution_count": 101,
   "metadata": {},
   "outputs": [
    {
     "data": {
      "text/plain": [
       "b'\\x00\\x01\\x02\\x03\\x04\\x05\\x06\\x07\\x08\\t\\n\\x0b\\x0c\\r\\x0e\\x0f\\x10\\x11\\x12\\x13'"
      ]
     },
     "execution_count": 101,
     "metadata": {},
     "output_type": "execute_result"
    }
   ],
   "source": [
    "data =bytes(range(20))\n",
    "view=memoryview(data)\n",
    "data"
   ]
  },
  {
   "cell_type": "code",
   "execution_count": 105,
   "metadata": {},
   "outputs": [
    {
     "ename": "TypeError",
     "evalue": "cannot modify read-only memory",
     "output_type": "error",
     "traceback": [
      "\u001b[1;31m---------------------------------------------------------------------------\u001b[0m",
      "\u001b[1;31mTypeError\u001b[0m                                 Traceback (most recent call last)",
      "Cell \u001b[1;32mIn[105], line 2\u001b[0m\n\u001b[0;32m      1\u001b[0m view\n\u001b[1;32m----> 2\u001b[0m \u001b[43mview\u001b[49m\u001b[43m[\u001b[49m\u001b[38;5;241;43m0\u001b[39;49m\u001b[43m]\u001b[49m\u001b[38;5;241m=\u001b[39m\u001b[38;5;241m100\u001b[39m\n",
      "\u001b[1;31mTypeError\u001b[0m: cannot modify read-only memory"
     ]
    }
   ],
   "source": [
    "view\n",
    "view[0]=100"
   ]
  },
  {
   "cell_type": "code",
   "execution_count": 106,
   "metadata": {},
   "outputs": [
    {
     "name": "stdout",
     "output_type": "stream",
     "text": [
      "<class '_io.TextIOWrapper'>\n",
      "this is a sample file for file handling\n",
      "\n",
      "\n"
     ]
    }
   ],
   "source": [
    "# file handling in python \n",
    "\n",
    "text_file=open(\"sample.txt\")\n",
    "\n",
    "print(type(text_file))\n",
    "print(text_file.read())\n",
    "\n",
    "text_file.close()\n"
   ]
  },
  {
   "cell_type": "code",
   "execution_count": 110,
   "metadata": {},
   "outputs": [
    {
     "name": "stdout",
     "output_type": "stream",
     "text": [
      "this is a sample file for file handling\n",
      "\n",
      "\n"
     ]
    }
   ],
   "source": [
    "#another option \n",
    "\n",
    "with open(\"sample.txt\",'r') as f:\n",
    "    contents=f.read()\n",
    "\n",
    "print(contents)"
   ]
  },
  {
   "cell_type": "code",
   "execution_count": 113,
   "metadata": {},
   "outputs": [
    {
     "name": "stdout",
     "output_type": "stream",
     "text": [
      "no file named{content}\n"
     ]
    }
   ],
   "source": [
    "try :\n",
    "    file= open(\"gees.txt\",\"r\")\n",
    "    content=file.read()\n",
    "    print(content)\n",
    "except:\n",
    "    FileNotFoundError\n",
    "finally:\n",
    "    print(\"no file named{content}\")"
   ]
  },
  {
   "cell_type": "code",
   "execution_count": 121,
   "metadata": {},
   "outputs": [
    {
     "name": "stdout",
     "output_type": "stream",
     "text": [
      "\n",
      "content are not preseent\n"
     ]
    }
   ],
   "source": [
    "try:\n",
    "    file= open(\"sample.txt\",\"r\")\n",
    "    content=file.read()\n",
    "    print(content)\n",
    "except:\n",
    "    FileNotFoundError\n",
    "\n",
    "finally:\n",
    "    print(\"content are not preseent\")\n"
   ]
  },
  {
   "cell_type": "code",
   "execution_count": 5,
   "metadata": {},
   "outputs": [
    {
     "name": "stdout",
     "output_type": "stream",
     "text": [
      "this is a sample test\n"
     ]
    }
   ],
   "source": [
    "#read the contents from a pdf file and write into write the content in file \n",
    "\n",
    "fi= open(\"sample.txt\",\"r\")\n",
    "content=fi.read()\n",
    "print(content)\n",
    "\n",
    "\n",
    "\n",
    "op=open(\"copied.txt\",\"w\")\n",
    "op.write(content)\n",
    "op.close()"
   ]
  },
  {
   "cell_type": "code",
   "execution_count": 2,
   "metadata": {},
   "outputs": [],
   "source": [
    "with open(\"sample.txt\",\"r\") as input:\n",
    "    with open(\"copied.txt\",\"w\") as output:\n",
    "        for line in input:\n",
    "            output.write(line)\n"
   ]
  },
  {
   "cell_type": "code",
   "execution_count": 131,
   "metadata": {},
   "outputs": [
    {
     "name": "stdout",
     "output_type": "stream",
     "text": [
      "<class 'tuple'>\n"
     ]
    },
    {
     "data": {
      "text/plain": [
       "4593"
      ]
     },
     "execution_count": 131,
     "metadata": {},
     "output_type": "execute_result"
    }
   ],
   "source": [
    "#multiple arguments \n",
    "#variable length argument\n",
    "def add(*args):\n",
    "    print(type(args))\n",
    "    return sum(args)\n",
    "\n",
    "\n",
    "add(2,32,4,4523,32)"
   ]
  },
  {
   "cell_type": "code",
   "execution_count": 135,
   "metadata": {},
   "outputs": [
    {
     "name": "stdout",
     "output_type": "stream",
     "text": [
      "<class 'dict'>\n",
      "name:suresh\n",
      "age:23\n"
     ]
    }
   ],
   "source": [
    "#keyword arguments \n",
    "\n",
    "def info(**kwargs):\n",
    "    print(type(kwargs))\n",
    "\n",
    "    for k,v in kwargs.items():\n",
    "        print(f\"{k}:{v}\")\n",
    "\n",
    "\n",
    "info(name=\"suresh\",age=\"23\")"
   ]
  },
  {
   "cell_type": "code",
   "execution_count": 179,
   "metadata": {},
   "outputs": [
    {
     "name": "stdout",
     "output_type": "stream",
     "text": [
      "['h', 'i', ' ', 's', 'u', 'r', 'e', 's', 'h'] [104, 105, 32, 83, 117, 114, 101, 115, 104]\n"
     ]
    }
   ],
   "source": [
    "#convert the srtings to ord char\n",
    "\n",
    "strings=\"hi Suresh\"\n",
    "com=[(x).lower() for x in strings]\n",
    "\n",
    "cm2=[ord(x) for x in strings]\n",
    "\n",
    "print(com,cm2)\n",
    "\n",
    "\n"
   ]
  },
  {
   "cell_type": "code",
   "execution_count": null,
   "metadata": {},
   "outputs": [],
   "source": []
  }
 ],
 "metadata": {
  "kernelspec": {
   "display_name": "Python 3",
   "language": "python",
   "name": "python3"
  },
  "language_info": {
   "codemirror_mode": {
    "name": "ipython",
    "version": 3
   },
   "file_extension": ".py",
   "mimetype": "text/x-python",
   "name": "python",
   "nbconvert_exporter": "python",
   "pygments_lexer": "ipython3",
   "version": "3.13.2"
  }
 },
 "nbformat": 4,
 "nbformat_minor": 2
}
