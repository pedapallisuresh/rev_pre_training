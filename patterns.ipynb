{
 "cells": [
  {
   "cell_type": "code",
   "execution_count": 11,
   "metadata": {},
   "outputs": [
    {
     "data": {
      "text/plain": [
       "'####'"
      ]
     },
     "execution_count": 11,
     "metadata": {},
     "output_type": "execute_result"
    }
   ],
   "source": [
    "#rectangle\n",
    "def rect(height,width):\n",
    "    return \"#\"*height\n",
    "rect(4,4)"
   ]
  },
  {
   "cell_type": "code",
   "execution_count": 8,
   "metadata": {},
   "outputs": [
    {
     "name": "stdout",
     "output_type": "stream",
     "text": [
      "********\n",
      "#      #\n",
      "#      #\n",
      "#      #\n",
      "#      #\n",
      "#      #\n",
      "#      #\n",
      "********\n"
     ]
    }
   ],
   "source": [
    "#program to print hollow rectangle\n",
    "\n",
    "def Hollow_rect(height,width):\n",
    "    for i in range(height):\n",
    "        if(i==0 or i==height-1):\n",
    "            print(\"*\"*width)\n",
    "        else:\n",
    "            print(\"#\"+\" \"*(width-2)+ \"#\")\n",
    "\n",
    "\n",
    "Hollow_rect(8,8)\n"
   ]
  },
  {
   "cell_type": "code",
   "execution_count": 3,
   "metadata": {},
   "outputs": [
    {
     "name": "stdout",
     "output_type": "stream",
     "text": [
      "#####\n",
      "####\n",
      "###\n",
      "##\n",
      "#\n"
     ]
    }
   ],
   "source": [
    "#inverted triangle\n",
    "n=5\n",
    "for i in range(n,0,-1):\n",
    "    print(\"#\"*i)\n",
    "    "
   ]
  },
  {
   "cell_type": "code",
   "execution_count": 1,
   "metadata": {},
   "outputs": [
    {
     "name": "stdout",
     "output_type": "stream",
     "text": [
      "    *\n",
      "   ***\n",
      "  *****\n",
      " *******\n",
      "*********\n"
     ]
    }
   ],
   "source": [
    "# full pyramid \n",
    "def full_pyramid(n):\n",
    "    for i in range(1,n+1):\n",
    "        for j in range(n-i):\n",
    "            print(\" \",end=\"\")\n",
    "\n",
    "        for k in range(1,2*i):\n",
    "            print(\"*\",end=\"\")\n",
    "        print()\n",
    "\n",
    "\n",
    "full_pyramid(5)"
   ]
  },
  {
   "cell_type": "code",
   "execution_count": 21,
   "metadata": {},
   "outputs": [
    {
     "name": "stdout",
     "output_type": "stream",
     "text": [
      "      *\n",
      "     ***\n",
      "    *****\n",
      "   *******\n",
      "  *********\n",
      " ***********\n",
      "  *********\n",
      "   *******\n",
      "    *****\n",
      "     ***\n",
      "      *\n"
     ]
    }
   ],
   "source": [
    "#diamond pattern\n",
    "\n",
    "n=5\n",
    "for i in range(n):\n",
    "    print((n-i)*\" \",\"*\"*(i*2+1))\n",
    "for i in range(n,-1,-1):\n",
    "    print((n-i)*\" \",\"*\"*(i*2+1))"
   ]
  },
  {
   "cell_type": "code",
   "execution_count": 17,
   "metadata": {},
   "outputs": [
    {
     "name": "stdout",
     "output_type": "stream",
     "text": [
      "      *\n",
      "     ***\n",
      "    *****\n",
      "   *******\n",
      "  *********\n"
     ]
    }
   ],
   "source": [
    "#pyramid\n",
    "\n",
    "n=5\n",
    "for i in range(n):\n",
    "    print(\" \"*(n-i),\"*\"*(2*i+1))"
   ]
  },
  {
   "cell_type": "code",
   "execution_count": 2,
   "metadata": {},
   "outputs": [
    {
     "name": "stdout",
     "output_type": "stream",
     "text": [
      "     \n",
      "    #\n",
      "   ##\n",
      "  ###\n",
      " ####\n"
     ]
    }
   ],
   "source": [
    "#pattern in pyramid\n",
    "n=5\n",
    "for i in range(n):\n",
    "    print(\" \"*(n-i)+\"#\"*i)"
   ]
  },
  {
   "cell_type": "code",
   "execution_count": 26,
   "metadata": {},
   "outputs": [
    {
     "name": "stdout",
     "output_type": "stream",
     "text": [
      "# # # \n",
      "# # # \n",
      "# # # \n"
     ]
    }
   ],
   "source": [
    "#ectangle\n",
    "def rect(height,wid):\n",
    "    for i in range(height):\n",
    "        for j in range(wid):\n",
    "            print(\"#\",end=\" \")\n",
    "        print()\n",
    "   \n",
    "\n",
    "rect(3,3)"
   ]
  },
  {
   "cell_type": "code",
   "execution_count": 14,
   "metadata": {},
   "outputs": [
    {
     "name": "stdout",
     "output_type": "stream",
     "text": [
      "[0, 2, 4, 6, 8, 10, 12, 14, 16, 18, 20, 22, 24, 26, 28, 30, 32, 34, 36, 38, 40, 42, 44, 46, 48, 50, 52, 54, 56, 58, 60, 62, 64, 66, 68, 70, 72, 74, 76, 78, 80, 82, 84, 86, 88, 90, 92, 94, 96, 98]\n"
     ]
    }
   ],
   "source": [
    "#list the numbers from 1 to 100 \n",
    "n=100\n",
    "lsi=[]\n",
    "for i in range(n):\n",
    "    if i%2==0:\n",
    "        lsi.append(i)\n",
    "    \n",
    "\n",
    "print(lsi)"
   ]
  },
  {
   "cell_type": "code",
   "execution_count": 20,
   "metadata": {},
   "outputs": [
    {
     "name": "stdout",
     "output_type": "stream",
     "text": [
      "[2, 4, 6, 8, 10, 12, 14, 16, 18, 20, 22, 24, 26, 28, 30, 32, 34, 36, 38, 40, 42, 44, 46, 48, 50, 52, 54, 56, 58, 60, 62, 64, 66, 68, 70, 72, 74, 76, 78, 80, 82, 84, 86, 88, 90, 92, 94, 96, 98]"
     ]
    }
   ],
   "source": [
    "#list comphrension\n",
    "ls=[ x for x in range(1,100) if x%2==0]\n",
    "print(ls,end=\"\")"
   ]
  }
 ],
 "metadata": {
  "kernelspec": {
   "display_name": "Python 3",
   "language": "python",
   "name": "python3"
  },
  "language_info": {
   "codemirror_mode": {
    "name": "ipython",
    "version": 3
   },
   "file_extension": ".py",
   "mimetype": "text/x-python",
   "name": "python",
   "nbconvert_exporter": "python",
   "pygments_lexer": "ipython3",
   "version": "3.13.2"
  }
 },
 "nbformat": 4,
 "nbformat_minor": 2
}
