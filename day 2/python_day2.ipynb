{
 "cells": [
  {
   "cell_type": "code",
   "execution_count": null,
   "metadata": {},
   "outputs": [],
   "source": [
    "#occurences of vowels in a sentence \n",
    "vow=['a','e','i','o','u']\n",
    "count=0\n",
    "sentence =\"this is a sentence given by the user\"\n",
    "for i in sentence:\n",
    "    if i in vow:\n",
    "        count+=1\n",
    "print(count)\n",
    "\n"
   ]
  },
  {
   "cell_type": "code",
   "execution_count": null,
   "metadata": {},
   "outputs": [],
   "source": [
    "#program to print the words in a sentence \n",
    "\n",
    "sente=\"this is a -sentence -give-n by the user\"\n",
    "\n",
    "count=sente.split(\"-\")\n",
    "\n",
    "print(len(count))"
   ]
  }
 ],
 "metadata": {
  "language_info": {
   "name": "python"
  }
 },
 "nbformat": 4,
 "nbformat_minor": 2
}
