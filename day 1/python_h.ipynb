{
 "cells": [
  {
   "cell_type": "code",
   "execution_count": null,
   "metadata": {},
   "outputs": [],
   "source": [
    "def pal():\n",
    "  n=input(\"enter a string \")\n",
    "  if (n==n[::-1]):\n",
    "    return \"palindrome\"\n",
    "  return \"not a palindrome\"\n"
   ]
  },
  {
   "cell_type": "code",
   "execution_count": null,
   "metadata": {},
   "outputs": [],
   "source": [
    "def fizzbuzz():\n",
    "  n=int(input())\n",
    "  for  i in range(0,n+1):\n",
    "\n",
    "    if(i%3==0 and i%5==0):\n",
    "      return \"FizzBuzz\"\n",
    "    elif(i%3==0):\n",
    "      return \"Fizz\"\n",
    "    elif(i%5==0):\n",
    "      return \"Buzz\"\n",
    "    else:\n",
    "      return n"
   ]
  },
  {
   "cell_type": "code",
   "execution_count": null,
   "metadata": {},
   "outputs": [],
   "source": [
    "#swap two numbers without using third var\n",
    "#1st way\n",
    "# a,b=b,a\n",
    "\n",
    "def swap():\n",
    "  a=int(input())\n",
    "  b=int(input())\n",
    "  a=a+b\n",
    "  b=a-b\n",
    "  a=a-b\n",
    "\n",
    "  return a,b\n",
    "\n",
    "swap()"
   ]
  },
  {
   "cell_type": "code",
   "execution_count": null,
   "metadata": {},
   "outputs": [],
   "source": [
    "# second largest element in the list\n",
    "\n",
    "lis= list(map(int,input().split()))\n",
    "lis.sort()\n",
    "print(lis[-2])"
   ]
  },
  {
   "cell_type": "code",
   "execution_count": null,
   "metadata": {},
   "outputs": [],
   "source": [
    "# closest number from zero in a given list \n",
    "lis=list(map(int,input().split()))\n",
    "lis.sort(key=abs)\n",
    "print(lis[0])"
   ]
  },
  {
   "cell_type": "code",
   "execution_count": null,
   "metadata": {},
   "outputs": [],
   "source": []
  }
 ],
 "metadata": {
  "language_info": {
   "name": "python"
  }
 },
 "nbformat": 4,
 "nbformat_minor": 2
}
