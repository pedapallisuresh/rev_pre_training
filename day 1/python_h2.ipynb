{
 "cells": [
  {
   "cell_type": "code",
   "execution_count": null,
   "metadata": {},
   "outputs": [],
   "source": [
    "#identical pairs in leet code \n",
    "def numidenticalpairs(nums):\n",
    "  pairs=0\n",
    "  for i in range(0,len(nums)):\n",
    "    for j in range(0,len(nums)):\n",
    "      if(nums[i]==nums[j] and i<j):\n",
    "        pairs+=1\n",
    "\n",
    "  return pairs\n",
    "nums=list(map(int,input().split()))\n",
    "numidenticalpairs(nums)"
   ]
  },
  {
   "cell_type": "code",
   "execution_count": null,
   "metadata": {},
   "outputs": [],
   "source": [
    "#dictionary contains names as keys and values as scores. You need to return the name and the score of the highest scorer.\n",
    "\n",
    "scores={\n",
    "  \"suresh\":87, \"sai\":23,\"satya\":123\n",
    "}\n",
    "\n",
    "High_score=max(scores.values())\n",
    "name=[key for key, value in scores.items() if value==High_score]\n",
    "print(name,High_score)\n"
   ]
  },
  {
   "cell_type": "code",
   "execution_count": null,
   "metadata": {},
   "outputs": [],
   "source": [
    "#remove duplicates from list and return to user \n",
    "def rem_dup():\n",
    "  lis=list(map(int,input().split()))\n",
    "  return list(set(lis))\n",
    "\n",
    "print(rem_dup())"
   ]
  }
 ],
 "metadata": {
  "language_info": {
   "name": "python"
  }
 },
 "nbformat": 4,
 "nbformat_minor": 2
}
